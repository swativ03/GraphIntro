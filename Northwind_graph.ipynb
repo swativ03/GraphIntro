{
 "cells": [
  {
   "cell_type": "code",
   "execution_count": 1,
   "metadata": {},
   "outputs": [],
   "source": [
    "import pandas as pd\n",
    "import numpy as np\n",
    "from IPython.display import Image\n",
    "\n",
    "############################ config connection to graph database #############################\n",
    "\n",
    "user_name = 'neo4j'\n",
    "password = '1234'\n",
    "bolt_url = 'bolt://localhost:7687'\n",
    "ip_address = 'localhost'\n",
    "http_port = '7474'\n",
    "http_url = 'http://{0}:{1}@{2}:{3}/db/data'.format(user_name, password, ip_address, http_port)\n",
    "\n",
    "#######============Not Working in version 4.0===============#################################\n",
    "###############################################################################################\n",
    "\n",
    "\n",
    "from py2neo import *\n",
    "from py2neo.ogm import *\n",
    "graph = Graph(bolt_url,auth=(user_name,password)) "
   ]
  },
  {
   "cell_type": "code",
   "execution_count": 2,
   "metadata": {},
   "outputs": [],
   "source": [
    "# Load csv files into python dataframe \n",
    "product = pd.read_csv(\"northwind/products.csv\")\n",
    "category = pd.read_csv(\"northwind/categories.csv\")\n",
    "customers = pd.read_csv(\"northwind/customers.csv\")\n",
    "employees = pd.read_csv(\"northwind/employees.csv\")\n",
    "orders = pd.read_csv(\"northwind/orders.csv\")\n",
    "suppliers = pd.read_csv(\"northwind/suppliers.csv\")"
   ]
  },
  {
   "cell_type": "code",
   "execution_count": 3,
   "metadata": {},
   "outputs": [
    {
     "data": {
      "text/html": [
       "<div>\n",
       "<style scoped>\n",
       "    .dataframe tbody tr th:only-of-type {\n",
       "        vertical-align: middle;\n",
       "    }\n",
       "\n",
       "    .dataframe tbody tr th {\n",
       "        vertical-align: top;\n",
       "    }\n",
       "\n",
       "    .dataframe thead th {\n",
       "        text-align: right;\n",
       "    }\n",
       "</style>\n",
       "<table border=\"1\" class=\"dataframe\">\n",
       "  <thead>\n",
       "    <tr style=\"text-align: right;\">\n",
       "      <th></th>\n",
       "      <th>ProductID</th>\n",
       "      <th>ProductName</th>\n",
       "      <th>SupplierID</th>\n",
       "      <th>CategoryID</th>\n",
       "      <th>QuantityPerUnit</th>\n",
       "      <th>UnitPrice</th>\n",
       "      <th>UnitsInStock</th>\n",
       "      <th>UnitsOnOrder</th>\n",
       "      <th>ReorderLevel</th>\n",
       "      <th>Discontinued</th>\n",
       "    </tr>\n",
       "  </thead>\n",
       "  <tbody>\n",
       "    <tr>\n",
       "      <th>0</th>\n",
       "      <td>1</td>\n",
       "      <td>Chai</td>\n",
       "      <td>8</td>\n",
       "      <td>1</td>\n",
       "      <td>10 boxes x 30 bags</td>\n",
       "      <td>18.00</td>\n",
       "      <td>39</td>\n",
       "      <td>0</td>\n",
       "      <td>10</td>\n",
       "      <td>1</td>\n",
       "    </tr>\n",
       "    <tr>\n",
       "      <th>1</th>\n",
       "      <td>2</td>\n",
       "      <td>Chang</td>\n",
       "      <td>1</td>\n",
       "      <td>1</td>\n",
       "      <td>24 - 12 oz bottles</td>\n",
       "      <td>19.00</td>\n",
       "      <td>17</td>\n",
       "      <td>40</td>\n",
       "      <td>25</td>\n",
       "      <td>1</td>\n",
       "    </tr>\n",
       "    <tr>\n",
       "      <th>2</th>\n",
       "      <td>3</td>\n",
       "      <td>Aniseed Syrup</td>\n",
       "      <td>1</td>\n",
       "      <td>2</td>\n",
       "      <td>12 - 550 ml bottles</td>\n",
       "      <td>10.00</td>\n",
       "      <td>13</td>\n",
       "      <td>70</td>\n",
       "      <td>25</td>\n",
       "      <td>0</td>\n",
       "    </tr>\n",
       "    <tr>\n",
       "      <th>3</th>\n",
       "      <td>4</td>\n",
       "      <td>Chef Anton's Cajun Seasoning</td>\n",
       "      <td>2</td>\n",
       "      <td>2</td>\n",
       "      <td>48 - 6 oz jars</td>\n",
       "      <td>22.00</td>\n",
       "      <td>53</td>\n",
       "      <td>0</td>\n",
       "      <td>0</td>\n",
       "      <td>0</td>\n",
       "    </tr>\n",
       "    <tr>\n",
       "      <th>4</th>\n",
       "      <td>5</td>\n",
       "      <td>Chef Anton's Gumbo Mix</td>\n",
       "      <td>2</td>\n",
       "      <td>2</td>\n",
       "      <td>36 boxes</td>\n",
       "      <td>21.35</td>\n",
       "      <td>0</td>\n",
       "      <td>0</td>\n",
       "      <td>0</td>\n",
       "      <td>1</td>\n",
       "    </tr>\n",
       "  </tbody>\n",
       "</table>\n",
       "</div>"
      ],
      "text/plain": [
       "   ProductID                   ProductName  SupplierID  CategoryID  \\\n",
       "0          1                          Chai           8           1   \n",
       "1          2                         Chang           1           1   \n",
       "2          3                 Aniseed Syrup           1           2   \n",
       "3          4  Chef Anton's Cajun Seasoning           2           2   \n",
       "4          5        Chef Anton's Gumbo Mix           2           2   \n",
       "\n",
       "       QuantityPerUnit  UnitPrice  UnitsInStock  UnitsOnOrder  ReorderLevel  \\\n",
       "0   10 boxes x 30 bags      18.00            39             0            10   \n",
       "1   24 - 12 oz bottles      19.00            17            40            25   \n",
       "2  12 - 550 ml bottles      10.00            13            70            25   \n",
       "3       48 - 6 oz jars      22.00            53             0             0   \n",
       "4             36 boxes      21.35             0             0             0   \n",
       "\n",
       "   Discontinued  \n",
       "0             1  \n",
       "1             1  \n",
       "2             0  \n",
       "3             0  \n",
       "4             1  "
      ]
     },
     "execution_count": 3,
     "metadata": {},
     "output_type": "execute_result"
    }
   ],
   "source": [
    "product.head()"
   ]
  },
  {
   "cell_type": "code",
   "execution_count": 4,
   "metadata": {},
   "outputs": [
    {
     "data": {
      "text/html": [
       "<div>\n",
       "<style scoped>\n",
       "    .dataframe tbody tr th:only-of-type {\n",
       "        vertical-align: middle;\n",
       "    }\n",
       "\n",
       "    .dataframe tbody tr th {\n",
       "        vertical-align: top;\n",
       "    }\n",
       "\n",
       "    .dataframe thead th {\n",
       "        text-align: right;\n",
       "    }\n",
       "</style>\n",
       "<table border=\"1\" class=\"dataframe\">\n",
       "  <thead>\n",
       "    <tr style=\"text-align: right;\">\n",
       "      <th></th>\n",
       "      <th>CategoryID</th>\n",
       "      <th>CategoryName</th>\n",
       "      <th>Description</th>\n",
       "      <th>Picture</th>\n",
       "    </tr>\n",
       "  </thead>\n",
       "  <tbody>\n",
       "    <tr>\n",
       "      <th>0</th>\n",
       "      <td>1</td>\n",
       "      <td>Beverages</td>\n",
       "      <td>Soft drinks, coffees, teas, beers, and ales</td>\n",
       "      <td>\\x</td>\n",
       "    </tr>\n",
       "    <tr>\n",
       "      <th>1</th>\n",
       "      <td>2</td>\n",
       "      <td>Condiments</td>\n",
       "      <td>Sweet and savory sauces, relishes, spreads, an...</td>\n",
       "      <td>\\x</td>\n",
       "    </tr>\n",
       "    <tr>\n",
       "      <th>2</th>\n",
       "      <td>3</td>\n",
       "      <td>Confections</td>\n",
       "      <td>Desserts, candies, and sweet breads</td>\n",
       "      <td>\\x</td>\n",
       "    </tr>\n",
       "    <tr>\n",
       "      <th>3</th>\n",
       "      <td>4</td>\n",
       "      <td>Dairy Products</td>\n",
       "      <td>Cheeses</td>\n",
       "      <td>\\x</td>\n",
       "    </tr>\n",
       "    <tr>\n",
       "      <th>4</th>\n",
       "      <td>5</td>\n",
       "      <td>Grains/Cereals</td>\n",
       "      <td>Breads, crackers, pasta, and cereal</td>\n",
       "      <td>\\x</td>\n",
       "    </tr>\n",
       "    <tr>\n",
       "      <th>5</th>\n",
       "      <td>6</td>\n",
       "      <td>Meat/Poultry</td>\n",
       "      <td>Prepared meats</td>\n",
       "      <td>\\x</td>\n",
       "    </tr>\n",
       "    <tr>\n",
       "      <th>6</th>\n",
       "      <td>7</td>\n",
       "      <td>Produce</td>\n",
       "      <td>Dried fruit and bean curd</td>\n",
       "      <td>\\x</td>\n",
       "    </tr>\n",
       "    <tr>\n",
       "      <th>7</th>\n",
       "      <td>8</td>\n",
       "      <td>Seafood</td>\n",
       "      <td>Seaweed and fish</td>\n",
       "      <td>\\x</td>\n",
       "    </tr>\n",
       "  </tbody>\n",
       "</table>\n",
       "</div>"
      ],
      "text/plain": [
       "   CategoryID    CategoryName  \\\n",
       "0           1       Beverages   \n",
       "1           2      Condiments   \n",
       "2           3     Confections   \n",
       "3           4  Dairy Products   \n",
       "4           5  Grains/Cereals   \n",
       "5           6    Meat/Poultry   \n",
       "6           7         Produce   \n",
       "7           8         Seafood   \n",
       "\n",
       "                                         Description Picture  \n",
       "0        Soft drinks, coffees, teas, beers, and ales      \\x  \n",
       "1  Sweet and savory sauces, relishes, spreads, an...      \\x  \n",
       "2                Desserts, candies, and sweet breads      \\x  \n",
       "3                                            Cheeses      \\x  \n",
       "4                Breads, crackers, pasta, and cereal      \\x  \n",
       "5                                     Prepared meats      \\x  \n",
       "6                          Dried fruit and bean curd      \\x  \n",
       "7                                   Seaweed and fish      \\x  "
      ]
     },
     "execution_count": 4,
     "metadata": {},
     "output_type": "execute_result"
    }
   ],
   "source": [
    "category"
   ]
  },
  {
   "cell_type": "code",
   "execution_count": 5,
   "metadata": {},
   "outputs": [
    {
     "data": {
      "text/html": [
       "<div>\n",
       "<style scoped>\n",
       "    .dataframe tbody tr th:only-of-type {\n",
       "        vertical-align: middle;\n",
       "    }\n",
       "\n",
       "    .dataframe tbody tr th {\n",
       "        vertical-align: top;\n",
       "    }\n",
       "\n",
       "    .dataframe thead th {\n",
       "        text-align: right;\n",
       "    }\n",
       "</style>\n",
       "<table border=\"1\" class=\"dataframe\">\n",
       "  <thead>\n",
       "    <tr style=\"text-align: right;\">\n",
       "      <th></th>\n",
       "      <th>CustomerID</th>\n",
       "      <th>CompanyName</th>\n",
       "      <th>ContactName</th>\n",
       "      <th>ContactTitle</th>\n",
       "      <th>Address</th>\n",
       "      <th>City</th>\n",
       "      <th>Region</th>\n",
       "      <th>PostalCode</th>\n",
       "      <th>Country</th>\n",
       "      <th>Phone</th>\n",
       "      <th>Fax</th>\n",
       "    </tr>\n",
       "  </thead>\n",
       "  <tbody>\n",
       "    <tr>\n",
       "      <th>0</th>\n",
       "      <td>ALFKI</td>\n",
       "      <td>Alfreds Futterkiste</td>\n",
       "      <td>Maria Anders</td>\n",
       "      <td>Sales Representative</td>\n",
       "      <td>Obere Str. 57</td>\n",
       "      <td>Berlin</td>\n",
       "      <td>NaN</td>\n",
       "      <td>12209</td>\n",
       "      <td>Germany</td>\n",
       "      <td>030-0074321</td>\n",
       "      <td>030-0076545</td>\n",
       "    </tr>\n",
       "    <tr>\n",
       "      <th>1</th>\n",
       "      <td>ANATR</td>\n",
       "      <td>Ana Trujillo Emparedados y helados</td>\n",
       "      <td>Ana Trujillo</td>\n",
       "      <td>Owner</td>\n",
       "      <td>Avda. de la Constitución 2222</td>\n",
       "      <td>México D.F.</td>\n",
       "      <td>NaN</td>\n",
       "      <td>05021</td>\n",
       "      <td>Mexico</td>\n",
       "      <td>(5) 555-4729</td>\n",
       "      <td>(5) 555-3745</td>\n",
       "    </tr>\n",
       "    <tr>\n",
       "      <th>2</th>\n",
       "      <td>ANTON</td>\n",
       "      <td>Antonio Moreno Taquería</td>\n",
       "      <td>Antonio Moreno</td>\n",
       "      <td>Owner</td>\n",
       "      <td>Mataderos  2312</td>\n",
       "      <td>México D.F.</td>\n",
       "      <td>NaN</td>\n",
       "      <td>05023</td>\n",
       "      <td>Mexico</td>\n",
       "      <td>(5) 555-3932</td>\n",
       "      <td>NaN</td>\n",
       "    </tr>\n",
       "    <tr>\n",
       "      <th>3</th>\n",
       "      <td>AROUT</td>\n",
       "      <td>Around the Horn</td>\n",
       "      <td>Thomas Hardy</td>\n",
       "      <td>Sales Representative</td>\n",
       "      <td>120 Hanover Sq.</td>\n",
       "      <td>London</td>\n",
       "      <td>NaN</td>\n",
       "      <td>WA1 1DP</td>\n",
       "      <td>UK</td>\n",
       "      <td>(171) 555-7788</td>\n",
       "      <td>(171) 555-6750</td>\n",
       "    </tr>\n",
       "    <tr>\n",
       "      <th>4</th>\n",
       "      <td>BERGS</td>\n",
       "      <td>Berglunds snabbköp</td>\n",
       "      <td>Christina Berglund</td>\n",
       "      <td>Order Administrator</td>\n",
       "      <td>Berguvsvägen  8</td>\n",
       "      <td>Luleå</td>\n",
       "      <td>NaN</td>\n",
       "      <td>S-958 22</td>\n",
       "      <td>Sweden</td>\n",
       "      <td>0921-12 34 65</td>\n",
       "      <td>0921-12 34 67</td>\n",
       "    </tr>\n",
       "  </tbody>\n",
       "</table>\n",
       "</div>"
      ],
      "text/plain": [
       "  CustomerID                         CompanyName         ContactName  \\\n",
       "0      ALFKI                 Alfreds Futterkiste        Maria Anders   \n",
       "1      ANATR  Ana Trujillo Emparedados y helados        Ana Trujillo   \n",
       "2      ANTON             Antonio Moreno Taquería      Antonio Moreno   \n",
       "3      AROUT                     Around the Horn        Thomas Hardy   \n",
       "4      BERGS                  Berglunds snabbköp  Christina Berglund   \n",
       "\n",
       "           ContactTitle                        Address         City Region  \\\n",
       "0  Sales Representative                  Obere Str. 57       Berlin    NaN   \n",
       "1                 Owner  Avda. de la Constitución 2222  México D.F.    NaN   \n",
       "2                 Owner                Mataderos  2312  México D.F.    NaN   \n",
       "3  Sales Representative                120 Hanover Sq.       London    NaN   \n",
       "4   Order Administrator                Berguvsvägen  8        Luleå    NaN   \n",
       "\n",
       "  PostalCode  Country           Phone             Fax  \n",
       "0      12209  Germany     030-0074321     030-0076545  \n",
       "1      05021   Mexico    (5) 555-4729    (5) 555-3745  \n",
       "2      05023   Mexico    (5) 555-3932             NaN  \n",
       "3    WA1 1DP       UK  (171) 555-7788  (171) 555-6750  \n",
       "4   S-958 22   Sweden   0921-12 34 65   0921-12 34 67  "
      ]
     },
     "execution_count": 5,
     "metadata": {},
     "output_type": "execute_result"
    }
   ],
   "source": [
    "customers.head()"
   ]
  },
  {
   "cell_type": "code",
   "execution_count": 6,
   "metadata": {},
   "outputs": [
    {
     "data": {
      "text/html": [
       "<div>\n",
       "<style scoped>\n",
       "    .dataframe tbody tr th:only-of-type {\n",
       "        vertical-align: middle;\n",
       "    }\n",
       "\n",
       "    .dataframe tbody tr th {\n",
       "        vertical-align: top;\n",
       "    }\n",
       "\n",
       "    .dataframe thead th {\n",
       "        text-align: right;\n",
       "    }\n",
       "</style>\n",
       "<table border=\"1\" class=\"dataframe\">\n",
       "  <thead>\n",
       "    <tr style=\"text-align: right;\">\n",
       "      <th></th>\n",
       "      <th>EmployeeID</th>\n",
       "      <th>LastName</th>\n",
       "      <th>FirstName</th>\n",
       "      <th>Title</th>\n",
       "      <th>TitleOfCourtesy</th>\n",
       "      <th>BirthDate</th>\n",
       "      <th>HireDate</th>\n",
       "      <th>Address</th>\n",
       "      <th>City</th>\n",
       "      <th>Region</th>\n",
       "      <th>PostalCode</th>\n",
       "      <th>Country</th>\n",
       "      <th>HomePhone</th>\n",
       "      <th>Extension</th>\n",
       "      <th>Photo</th>\n",
       "      <th>Notes</th>\n",
       "      <th>ReportsTo</th>\n",
       "      <th>PhotoPath</th>\n",
       "    </tr>\n",
       "  </thead>\n",
       "  <tbody>\n",
       "    <tr>\n",
       "      <th>0</th>\n",
       "      <td>1</td>\n",
       "      <td>Davolio</td>\n",
       "      <td>Nancy</td>\n",
       "      <td>Sales Representative</td>\n",
       "      <td>Ms.</td>\n",
       "      <td>1948-12-08</td>\n",
       "      <td>1992-05-01</td>\n",
       "      <td>507 - 20th Ave. E.\\nApt. 2A</td>\n",
       "      <td>Seattle</td>\n",
       "      <td>WA</td>\n",
       "      <td>98122</td>\n",
       "      <td>USA</td>\n",
       "      <td>(206) 555-9857</td>\n",
       "      <td>5467</td>\n",
       "      <td>\\x</td>\n",
       "      <td>Education includes a BA in psychology from Col...</td>\n",
       "      <td>2.0</td>\n",
       "      <td>http://accweb/emmployees/davolio.bmp</td>\n",
       "    </tr>\n",
       "    <tr>\n",
       "      <th>1</th>\n",
       "      <td>2</td>\n",
       "      <td>Fuller</td>\n",
       "      <td>Andrew</td>\n",
       "      <td>Vice President, Sales</td>\n",
       "      <td>Dr.</td>\n",
       "      <td>1952-02-19</td>\n",
       "      <td>1992-08-14</td>\n",
       "      <td>908 W. Capital Way</td>\n",
       "      <td>Tacoma</td>\n",
       "      <td>WA</td>\n",
       "      <td>98401</td>\n",
       "      <td>USA</td>\n",
       "      <td>(206) 555-9482</td>\n",
       "      <td>3457</td>\n",
       "      <td>\\x</td>\n",
       "      <td>Andrew received his BTS commercial in 1974 and...</td>\n",
       "      <td>NaN</td>\n",
       "      <td>http://accweb/emmployees/fuller.bmp</td>\n",
       "    </tr>\n",
       "    <tr>\n",
       "      <th>2</th>\n",
       "      <td>3</td>\n",
       "      <td>Leverling</td>\n",
       "      <td>Janet</td>\n",
       "      <td>Sales Representative</td>\n",
       "      <td>Ms.</td>\n",
       "      <td>1963-08-30</td>\n",
       "      <td>1992-04-01</td>\n",
       "      <td>722 Moss Bay Blvd.</td>\n",
       "      <td>Kirkland</td>\n",
       "      <td>WA</td>\n",
       "      <td>98033</td>\n",
       "      <td>USA</td>\n",
       "      <td>(206) 555-3412</td>\n",
       "      <td>3355</td>\n",
       "      <td>\\x</td>\n",
       "      <td>Janet has a BS degree in chemistry from Boston...</td>\n",
       "      <td>2.0</td>\n",
       "      <td>http://accweb/emmployees/leverling.bmp</td>\n",
       "    </tr>\n",
       "    <tr>\n",
       "      <th>3</th>\n",
       "      <td>4</td>\n",
       "      <td>Peacock</td>\n",
       "      <td>Margaret</td>\n",
       "      <td>Sales Representative</td>\n",
       "      <td>Mrs.</td>\n",
       "      <td>1937-09-19</td>\n",
       "      <td>1993-05-03</td>\n",
       "      <td>4110 Old Redmond Rd.</td>\n",
       "      <td>Redmond</td>\n",
       "      <td>WA</td>\n",
       "      <td>98052</td>\n",
       "      <td>USA</td>\n",
       "      <td>(206) 555-8122</td>\n",
       "      <td>5176</td>\n",
       "      <td>\\x</td>\n",
       "      <td>Margaret holds a BA in English literature from...</td>\n",
       "      <td>2.0</td>\n",
       "      <td>http://accweb/emmployees/peacock.bmp</td>\n",
       "    </tr>\n",
       "    <tr>\n",
       "      <th>4</th>\n",
       "      <td>5</td>\n",
       "      <td>Buchanan</td>\n",
       "      <td>Steven</td>\n",
       "      <td>Sales Manager</td>\n",
       "      <td>Mr.</td>\n",
       "      <td>1955-03-04</td>\n",
       "      <td>1993-10-17</td>\n",
       "      <td>14 Garrett Hill</td>\n",
       "      <td>London</td>\n",
       "      <td>NaN</td>\n",
       "      <td>SW1 8JR</td>\n",
       "      <td>UK</td>\n",
       "      <td>(71) 555-4848</td>\n",
       "      <td>3453</td>\n",
       "      <td>\\x</td>\n",
       "      <td>Steven Buchanan graduated from St. Andrews Uni...</td>\n",
       "      <td>2.0</td>\n",
       "      <td>http://accweb/emmployees/buchanan.bmp</td>\n",
       "    </tr>\n",
       "  </tbody>\n",
       "</table>\n",
       "</div>"
      ],
      "text/plain": [
       "   EmployeeID   LastName FirstName                  Title TitleOfCourtesy  \\\n",
       "0           1    Davolio     Nancy   Sales Representative             Ms.   \n",
       "1           2     Fuller    Andrew  Vice President, Sales             Dr.   \n",
       "2           3  Leverling     Janet   Sales Representative             Ms.   \n",
       "3           4    Peacock  Margaret   Sales Representative            Mrs.   \n",
       "4           5   Buchanan    Steven          Sales Manager             Mr.   \n",
       "\n",
       "    BirthDate    HireDate                      Address      City Region  \\\n",
       "0  1948-12-08  1992-05-01  507 - 20th Ave. E.\\nApt. 2A   Seattle     WA   \n",
       "1  1952-02-19  1992-08-14           908 W. Capital Way    Tacoma     WA   \n",
       "2  1963-08-30  1992-04-01           722 Moss Bay Blvd.  Kirkland     WA   \n",
       "3  1937-09-19  1993-05-03         4110 Old Redmond Rd.   Redmond     WA   \n",
       "4  1955-03-04  1993-10-17              14 Garrett Hill    London    NaN   \n",
       "\n",
       "  PostalCode Country       HomePhone  Extension Photo  \\\n",
       "0      98122     USA  (206) 555-9857       5467    \\x   \n",
       "1      98401     USA  (206) 555-9482       3457    \\x   \n",
       "2      98033     USA  (206) 555-3412       3355    \\x   \n",
       "3      98052     USA  (206) 555-8122       5176    \\x   \n",
       "4    SW1 8JR      UK   (71) 555-4848       3453    \\x   \n",
       "\n",
       "                                               Notes  ReportsTo  \\\n",
       "0  Education includes a BA in psychology from Col...        2.0   \n",
       "1  Andrew received his BTS commercial in 1974 and...        NaN   \n",
       "2  Janet has a BS degree in chemistry from Boston...        2.0   \n",
       "3  Margaret holds a BA in English literature from...        2.0   \n",
       "4  Steven Buchanan graduated from St. Andrews Uni...        2.0   \n",
       "\n",
       "                                PhotoPath  \n",
       "0    http://accweb/emmployees/davolio.bmp  \n",
       "1     http://accweb/emmployees/fuller.bmp  \n",
       "2  http://accweb/emmployees/leverling.bmp  \n",
       "3    http://accweb/emmployees/peacock.bmp  \n",
       "4   http://accweb/emmployees/buchanan.bmp  "
      ]
     },
     "execution_count": 6,
     "metadata": {},
     "output_type": "execute_result"
    }
   ],
   "source": [
    "employees.head()"
   ]
  },
  {
   "cell_type": "code",
   "execution_count": 7,
   "metadata": {},
   "outputs": [
    {
     "data": {
      "text/html": [
       "<div>\n",
       "<style scoped>\n",
       "    .dataframe tbody tr th:only-of-type {\n",
       "        vertical-align: middle;\n",
       "    }\n",
       "\n",
       "    .dataframe tbody tr th {\n",
       "        vertical-align: top;\n",
       "    }\n",
       "\n",
       "    .dataframe thead th {\n",
       "        text-align: right;\n",
       "    }\n",
       "</style>\n",
       "<table border=\"1\" class=\"dataframe\">\n",
       "  <thead>\n",
       "    <tr style=\"text-align: right;\">\n",
       "      <th></th>\n",
       "      <th>OrderID</th>\n",
       "      <th>CustomerID</th>\n",
       "      <th>EmployeeID</th>\n",
       "      <th>OrderDate</th>\n",
       "      <th>RequiredDate</th>\n",
       "      <th>ShippedDate</th>\n",
       "      <th>ShipVia</th>\n",
       "      <th>Freight</th>\n",
       "      <th>ShipName</th>\n",
       "      <th>ShipAddress</th>\n",
       "      <th>ShipCity</th>\n",
       "      <th>ShipRegion</th>\n",
       "      <th>ShipPostalCode</th>\n",
       "      <th>ShipCountry</th>\n",
       "      <th>OrderID.1</th>\n",
       "      <th>ProductID</th>\n",
       "      <th>UnitPrice</th>\n",
       "      <th>Quantity</th>\n",
       "      <th>Discount</th>\n",
       "    </tr>\n",
       "  </thead>\n",
       "  <tbody>\n",
       "    <tr>\n",
       "      <th>0</th>\n",
       "      <td>10248</td>\n",
       "      <td>VINET</td>\n",
       "      <td>5</td>\n",
       "      <td>1996-07-04</td>\n",
       "      <td>1996-08-01</td>\n",
       "      <td>1996-07-16</td>\n",
       "      <td>3</td>\n",
       "      <td>32.38</td>\n",
       "      <td>Vins et alcools Chevalier</td>\n",
       "      <td>59 rue de l'Abbaye</td>\n",
       "      <td>Reims</td>\n",
       "      <td>NaN</td>\n",
       "      <td>51100</td>\n",
       "      <td>France</td>\n",
       "      <td>10248</td>\n",
       "      <td>11</td>\n",
       "      <td>14.0</td>\n",
       "      <td>12</td>\n",
       "      <td>0.0</td>\n",
       "    </tr>\n",
       "    <tr>\n",
       "      <th>1</th>\n",
       "      <td>10248</td>\n",
       "      <td>VINET</td>\n",
       "      <td>5</td>\n",
       "      <td>1996-07-04</td>\n",
       "      <td>1996-08-01</td>\n",
       "      <td>1996-07-16</td>\n",
       "      <td>3</td>\n",
       "      <td>32.38</td>\n",
       "      <td>Vins et alcools Chevalier</td>\n",
       "      <td>59 rue de l'Abbaye</td>\n",
       "      <td>Reims</td>\n",
       "      <td>NaN</td>\n",
       "      <td>51100</td>\n",
       "      <td>France</td>\n",
       "      <td>10248</td>\n",
       "      <td>42</td>\n",
       "      <td>9.8</td>\n",
       "      <td>10</td>\n",
       "      <td>0.0</td>\n",
       "    </tr>\n",
       "    <tr>\n",
       "      <th>2</th>\n",
       "      <td>10248</td>\n",
       "      <td>VINET</td>\n",
       "      <td>5</td>\n",
       "      <td>1996-07-04</td>\n",
       "      <td>1996-08-01</td>\n",
       "      <td>1996-07-16</td>\n",
       "      <td>3</td>\n",
       "      <td>32.38</td>\n",
       "      <td>Vins et alcools Chevalier</td>\n",
       "      <td>59 rue de l'Abbaye</td>\n",
       "      <td>Reims</td>\n",
       "      <td>NaN</td>\n",
       "      <td>51100</td>\n",
       "      <td>France</td>\n",
       "      <td>10248</td>\n",
       "      <td>72</td>\n",
       "      <td>34.8</td>\n",
       "      <td>5</td>\n",
       "      <td>0.0</td>\n",
       "    </tr>\n",
       "    <tr>\n",
       "      <th>3</th>\n",
       "      <td>10249</td>\n",
       "      <td>TOMSP</td>\n",
       "      <td>6</td>\n",
       "      <td>1996-07-05</td>\n",
       "      <td>1996-08-16</td>\n",
       "      <td>1996-07-10</td>\n",
       "      <td>1</td>\n",
       "      <td>11.61</td>\n",
       "      <td>Toms Spezialitäten</td>\n",
       "      <td>Luisenstr. 48</td>\n",
       "      <td>Münster</td>\n",
       "      <td>NaN</td>\n",
       "      <td>44087</td>\n",
       "      <td>Germany</td>\n",
       "      <td>10249</td>\n",
       "      <td>14</td>\n",
       "      <td>18.6</td>\n",
       "      <td>9</td>\n",
       "      <td>0.0</td>\n",
       "    </tr>\n",
       "    <tr>\n",
       "      <th>4</th>\n",
       "      <td>10249</td>\n",
       "      <td>TOMSP</td>\n",
       "      <td>6</td>\n",
       "      <td>1996-07-05</td>\n",
       "      <td>1996-08-16</td>\n",
       "      <td>1996-07-10</td>\n",
       "      <td>1</td>\n",
       "      <td>11.61</td>\n",
       "      <td>Toms Spezialitäten</td>\n",
       "      <td>Luisenstr. 48</td>\n",
       "      <td>Münster</td>\n",
       "      <td>NaN</td>\n",
       "      <td>44087</td>\n",
       "      <td>Germany</td>\n",
       "      <td>10249</td>\n",
       "      <td>51</td>\n",
       "      <td>42.4</td>\n",
       "      <td>40</td>\n",
       "      <td>0.0</td>\n",
       "    </tr>\n",
       "  </tbody>\n",
       "</table>\n",
       "</div>"
      ],
      "text/plain": [
       "   OrderID CustomerID  EmployeeID   OrderDate RequiredDate ShippedDate  \\\n",
       "0    10248      VINET           5  1996-07-04   1996-08-01  1996-07-16   \n",
       "1    10248      VINET           5  1996-07-04   1996-08-01  1996-07-16   \n",
       "2    10248      VINET           5  1996-07-04   1996-08-01  1996-07-16   \n",
       "3    10249      TOMSP           6  1996-07-05   1996-08-16  1996-07-10   \n",
       "4    10249      TOMSP           6  1996-07-05   1996-08-16  1996-07-10   \n",
       "\n",
       "   ShipVia  Freight                   ShipName         ShipAddress ShipCity  \\\n",
       "0        3    32.38  Vins et alcools Chevalier  59 rue de l'Abbaye    Reims   \n",
       "1        3    32.38  Vins et alcools Chevalier  59 rue de l'Abbaye    Reims   \n",
       "2        3    32.38  Vins et alcools Chevalier  59 rue de l'Abbaye    Reims   \n",
       "3        1    11.61         Toms Spezialitäten       Luisenstr. 48  Münster   \n",
       "4        1    11.61         Toms Spezialitäten       Luisenstr. 48  Münster   \n",
       "\n",
       "  ShipRegion ShipPostalCode ShipCountry  OrderID.1  ProductID  UnitPrice  \\\n",
       "0        NaN          51100      France      10248         11       14.0   \n",
       "1        NaN          51100      France      10248         42        9.8   \n",
       "2        NaN          51100      France      10248         72       34.8   \n",
       "3        NaN          44087     Germany      10249         14       18.6   \n",
       "4        NaN          44087     Germany      10249         51       42.4   \n",
       "\n",
       "   Quantity  Discount  \n",
       "0        12       0.0  \n",
       "1        10       0.0  \n",
       "2         5       0.0  \n",
       "3         9       0.0  \n",
       "4        40       0.0  "
      ]
     },
     "execution_count": 7,
     "metadata": {},
     "output_type": "execute_result"
    }
   ],
   "source": [
    "orders.head()"
   ]
  },
  {
   "cell_type": "code",
   "execution_count": 8,
   "metadata": {
    "scrolled": true
   },
   "outputs": [
    {
     "data": {
      "text/html": [
       "<div>\n",
       "<style scoped>\n",
       "    .dataframe tbody tr th:only-of-type {\n",
       "        vertical-align: middle;\n",
       "    }\n",
       "\n",
       "    .dataframe tbody tr th {\n",
       "        vertical-align: top;\n",
       "    }\n",
       "\n",
       "    .dataframe thead th {\n",
       "        text-align: right;\n",
       "    }\n",
       "</style>\n",
       "<table border=\"1\" class=\"dataframe\">\n",
       "  <thead>\n",
       "    <tr style=\"text-align: right;\">\n",
       "      <th></th>\n",
       "      <th>SupplierID</th>\n",
       "      <th>CompanyName</th>\n",
       "      <th>ContactName</th>\n",
       "      <th>ContactTitle</th>\n",
       "      <th>Address</th>\n",
       "      <th>City</th>\n",
       "      <th>Region</th>\n",
       "      <th>PostalCode</th>\n",
       "      <th>Country</th>\n",
       "      <th>Phone</th>\n",
       "      <th>Fax</th>\n",
       "      <th>HomePage</th>\n",
       "    </tr>\n",
       "  </thead>\n",
       "  <tbody>\n",
       "    <tr>\n",
       "      <th>0</th>\n",
       "      <td>1</td>\n",
       "      <td>Exotic Liquids</td>\n",
       "      <td>Charlotte Cooper</td>\n",
       "      <td>Purchasing Manager</td>\n",
       "      <td>49 Gilbert St.</td>\n",
       "      <td>London</td>\n",
       "      <td>NaN</td>\n",
       "      <td>EC1 4SD</td>\n",
       "      <td>UK</td>\n",
       "      <td>(171) 555-2222</td>\n",
       "      <td>NaN</td>\n",
       "      <td>NaN</td>\n",
       "    </tr>\n",
       "    <tr>\n",
       "      <th>1</th>\n",
       "      <td>2</td>\n",
       "      <td>New Orleans Cajun Delights</td>\n",
       "      <td>Shelley Burke</td>\n",
       "      <td>Order Administrator</td>\n",
       "      <td>P.O. Box 78934</td>\n",
       "      <td>New Orleans</td>\n",
       "      <td>LA</td>\n",
       "      <td>70117</td>\n",
       "      <td>USA</td>\n",
       "      <td>(100) 555-4822</td>\n",
       "      <td>NaN</td>\n",
       "      <td>#CAJUN.HTM#</td>\n",
       "    </tr>\n",
       "    <tr>\n",
       "      <th>2</th>\n",
       "      <td>3</td>\n",
       "      <td>Grandma Kelly's Homestead</td>\n",
       "      <td>Regina Murphy</td>\n",
       "      <td>Sales Representative</td>\n",
       "      <td>707 Oxford Rd.</td>\n",
       "      <td>Ann Arbor</td>\n",
       "      <td>MI</td>\n",
       "      <td>48104</td>\n",
       "      <td>USA</td>\n",
       "      <td>(313) 555-5735</td>\n",
       "      <td>(313) 555-3349</td>\n",
       "      <td>NaN</td>\n",
       "    </tr>\n",
       "    <tr>\n",
       "      <th>3</th>\n",
       "      <td>4</td>\n",
       "      <td>Tokyo Traders</td>\n",
       "      <td>Yoshi Nagase</td>\n",
       "      <td>Marketing Manager</td>\n",
       "      <td>9-8 Sekimai Musashino-shi</td>\n",
       "      <td>Tokyo</td>\n",
       "      <td>NaN</td>\n",
       "      <td>100</td>\n",
       "      <td>Japan</td>\n",
       "      <td>(03) 3555-5011</td>\n",
       "      <td>NaN</td>\n",
       "      <td>NaN</td>\n",
       "    </tr>\n",
       "    <tr>\n",
       "      <th>4</th>\n",
       "      <td>5</td>\n",
       "      <td>Cooperativa de Quesos 'Las Cabras'</td>\n",
       "      <td>Antonio del Valle Saavedra</td>\n",
       "      <td>Export Administrator</td>\n",
       "      <td>Calle del Rosal 4</td>\n",
       "      <td>Oviedo</td>\n",
       "      <td>Asturias</td>\n",
       "      <td>33007</td>\n",
       "      <td>Spain</td>\n",
       "      <td>(98) 598 76 54</td>\n",
       "      <td>NaN</td>\n",
       "      <td>NaN</td>\n",
       "    </tr>\n",
       "  </tbody>\n",
       "</table>\n",
       "</div>"
      ],
      "text/plain": [
       "   SupplierID                         CompanyName                 ContactName  \\\n",
       "0           1                      Exotic Liquids            Charlotte Cooper   \n",
       "1           2          New Orleans Cajun Delights               Shelley Burke   \n",
       "2           3           Grandma Kelly's Homestead               Regina Murphy   \n",
       "3           4                       Tokyo Traders                Yoshi Nagase   \n",
       "4           5  Cooperativa de Quesos 'Las Cabras'  Antonio del Valle Saavedra   \n",
       "\n",
       "           ContactTitle                    Address         City    Region  \\\n",
       "0    Purchasing Manager             49 Gilbert St.       London       NaN   \n",
       "1   Order Administrator             P.O. Box 78934  New Orleans        LA   \n",
       "2  Sales Representative             707 Oxford Rd.    Ann Arbor        MI   \n",
       "3     Marketing Manager  9-8 Sekimai Musashino-shi        Tokyo       NaN   \n",
       "4  Export Administrator          Calle del Rosal 4       Oviedo  Asturias   \n",
       "\n",
       "  PostalCode Country           Phone             Fax     HomePage  \n",
       "0    EC1 4SD      UK  (171) 555-2222             NaN          NaN  \n",
       "1      70117     USA  (100) 555-4822             NaN  #CAJUN.HTM#  \n",
       "2      48104     USA  (313) 555-5735  (313) 555-3349          NaN  \n",
       "3        100   Japan  (03) 3555-5011             NaN          NaN  \n",
       "4      33007   Spain  (98) 598 76 54             NaN          NaN  "
      ]
     },
     "execution_count": 8,
     "metadata": {},
     "output_type": "execute_result"
    }
   ],
   "source": [
    "suppliers.head()"
   ]
  },
  {
   "cell_type": "code",
   "execution_count": 9,
   "metadata": {},
   "outputs": [
    {
     "name": "stdout",
     "output_type": "stream",
     "text": [
      "<class 'pandas.core.frame.DataFrame'>\n",
      "RangeIndex: 2155 entries, 0 to 2154\n",
      "Data columns (total 19 columns):\n",
      " #   Column          Non-Null Count  Dtype  \n",
      "---  ------          --------------  -----  \n",
      " 0   OrderID         2155 non-null   int64  \n",
      " 1   CustomerID      2155 non-null   object \n",
      " 2   EmployeeID      2155 non-null   int64  \n",
      " 3   OrderDate       2155 non-null   object \n",
      " 4   RequiredDate    2155 non-null   object \n",
      " 5   ShippedDate     2082 non-null   object \n",
      " 6   ShipVia         2155 non-null   int64  \n",
      " 7   Freight         2155 non-null   float64\n",
      " 8   ShipName        2155 non-null   object \n",
      " 9   ShipAddress     2155 non-null   object \n",
      " 10  ShipCity        2155 non-null   object \n",
      " 11  ShipRegion      856 non-null    object \n",
      " 12  ShipPostalCode  2100 non-null   object \n",
      " 13  ShipCountry     2155 non-null   object \n",
      " 14  OrderID.1       2155 non-null   int64  \n",
      " 15  ProductID       2155 non-null   int64  \n",
      " 16  UnitPrice       2155 non-null   float64\n",
      " 17  Quantity        2155 non-null   int64  \n",
      " 18  Discount        2155 non-null   float64\n",
      "dtypes: float64(3), int64(6), object(10)\n",
      "memory usage: 320.0+ KB\n"
     ]
    }
   ],
   "source": [
    "orders.info()"
   ]
  },
  {
   "cell_type": "markdown",
   "metadata": {},
   "source": [
    "### Building Graph"
   ]
  },
  {
   "cell_type": "code",
   "execution_count": 10,
   "metadata": {},
   "outputs": [],
   "source": [
    "constraints = graph.run('''call db.constraints''').to_data_frame().values"
   ]
  },
  {
   "cell_type": "code",
   "execution_count": 11,
   "metadata": {},
   "outputs": [],
   "source": [
    "# To Ensure each order is not duplicated, we create constraint on Order. \n",
    "# Note that creating constrains automatically also creates indexes on nodes\n",
    "\n",
    "if len(constraints) == 0:\n",
    "    graph.run('''CREATE CONSTRAINT order_id ON (o:Order) ASSERT o.orderID IS UNIQUE; ''')\n",
    "    graph.run('''CREATE CONSTRAINT product_id ON (p:Product) ASSERT p.productID IS UNIQUE ''')\n",
    "    graph.run('''CREATE CONSTRAINT product_name ON (p:Product) ASSERT p.productName IS UNIQUE ''')\n",
    "    graph.run('''CREATE CONSTRAINT employee_id ON (e:Employee) ASSERT e.employeeID IS UNIQUE ''')\n",
    "    graph.run('''CREATE CONSTRAINT supplier_id ON (s:Supplier) ASSERT s.supplierID IS UNIQUE ''')\n",
    "    graph.run('''CREATE CONSTRAINT category_id ON (c:Category) ASSERT c.categoryID IS UNIQUE ''')"
   ]
  },
  {
   "cell_type": "markdown",
   "metadata": {},
   "source": [
    "#### Create Nodes"
   ]
  },
  {
   "cell_type": "code",
   "execution_count": 12,
   "metadata": {},
   "outputs": [],
   "source": [
    "graph.delete_all()\n",
    "\n",
    "#Create nodes for Table Order\n",
    "for index, row in orders.iterrows():\n",
    "\n",
    "    OrderID = int(row['OrderID'])\n",
    "    shipname= row['ShipName']\n",
    "    EmployeeID= int(row['EmployeeID'])\n",
    "    ProductID = int(row['ProductID'])\n",
    "    UnitPrice = float(row['UnitPrice'])\n",
    "    Quantity = float(row['Quantity']) \n",
    "    \n",
    "\n",
    "    \n",
    "    Order_node = Node('Order', id = OrderID)\n",
    "    Order_node['orderID'] = OrderID\n",
    "    Order_node['shipname'] = shipname\n",
    "\n",
    "    \n",
    "    unique_id = str(row['OrderID'])+ \"_\" + str(row['EmployeeID']) + \"_\" + str(row['ProductID'])\n",
    "    \n",
    "    o_tempnode = Node('o_temp', id = unique_id)\n",
    "\n",
    "    o_tempnode['orderID'] = OrderID\n",
    "    o_tempnode['productID'] = ProductID\n",
    "    o_tempnode['employeeID'] = EmployeeID\n",
    "    o_tempnode['unitPrice'] = UnitPrice\n",
    "    o_tempnode['quantity'] = Quantity\n",
    "\n",
    "    \n",
    "    #create node  on graphDB\n",
    "    \n",
    "    graph.merge(Order_node, 'Order', 'id')\n",
    "    graph.merge(o_tempnode, 'o_temp', 'id')\n",
    " \n",
    "    graph.merge(Relationship(Order_node, \"ConnectedTo\",o_tempnode ))\n"
   ]
  },
  {
   "cell_type": "code",
   "execution_count": 13,
   "metadata": {},
   "outputs": [],
   "source": [
    "# Create nodes for table Products:\n",
    "\n",
    "for index, row in product.iterrows():\n",
    "\n",
    "    ProductID = int(row['ProductID'])\n",
    "    productName= row['ProductName']\n",
    "    unitPrice= float(row['UnitPrice'])\n",
    "    SupplierID = int(row['SupplierID'])\n",
    "    CategoryID = int(row['CategoryID'])\n",
    "    \n",
    "    Product_node = Node('Product', id = ProductID) \n",
    "    Product_node['productID'] = ProductID\n",
    "    Product_node['productName'] = productName\n",
    "    Product_node['unitPrice'] = unitPrice\n",
    "\n",
    "    \n",
    "    unique_id = str(row['ProductID']) + \"_\" + str(row['SupplierID']) + \"_\" + str(row['CategoryID']) \n",
    "    \n",
    "    p_tempnode = Node(\"p_temp\", id = unique_id)    \n",
    "    p_tempnode['productID'] = ProductID\n",
    "    p_tempnode['productName'] = productName\n",
    "    p_tempnode['supplierID'] = SupplierID\n",
    "    p_tempnode['unitPrice'] = unitPrice\n",
    "    p_tempnode['categoryID'] = CategoryID\n",
    "    \n",
    "    #create node  on graphDB\n",
    "    \n",
    "    graph.merge(Product_node, 'Product', 'id')\n",
    "    graph.merge(p_tempnode, 'p_temp', 'id')\n",
    "    \n",
    "    graph.merge(Relationship( Product_node, \"ConnectedTo\",p_tempnode ))\n",
    "    graph.merge(Relationship( p_tempnode, \"Connection_2\",Product_node ))\n",
    " "
   ]
  },
  {
   "cell_type": "code",
   "execution_count": 14,
   "metadata": {},
   "outputs": [],
   "source": [
    "# Create nodes for table Suppliers:\n",
    "\n",
    "for index, row in suppliers.iterrows():\n",
    "\n",
    "    SupplierID = int(row['SupplierID'])\n",
    "    CompanyName= row['CompanyName']\n",
    "    \n",
    "    Supplier_node = Node('Supplier', id = SupplierID) \n",
    "    Supplier_node['supplierID'] = SupplierID\n",
    "    Supplier_node['CompanyName'] = CompanyName\n",
    "    \n",
    "    #create node on graphDB\n",
    "    \n",
    "    graph.merge(Supplier_node, 'Supplier', 'id')\n",
    " "
   ]
  },
  {
   "cell_type": "code",
   "execution_count": 15,
   "metadata": {},
   "outputs": [],
   "source": [
    "# Create nodes for table Employees:\n",
    "\n",
    "\n",
    "for index, row in employees.iterrows():\n",
    "\n",
    "    EmployeeID = int(row['EmployeeID'])\n",
    "    FirstName= row['FirstName']\n",
    "    LastName = row['LastName']\n",
    "    Title = row['Title']\n",
    "    ReportsTo = row['ReportsTo']\n",
    "   \n",
    "    Employee_node = Node('Employee', id = EmployeeID)   \n",
    "    \n",
    "    Employee_node['employeeID'] = EmployeeID\n",
    "    Employee_node['FirstName'] = FirstName\n",
    "    Employee_node['LastName'] = LastName\n",
    "    Employee_node['Title'] = Title\n",
    "    Employee_node['ReportsTo'] = ReportsTo\n",
    "\n",
    "    #create node on graphDB\n",
    "    \n",
    "    graph.merge(Employee_node, 'Employee', 'id')\n",
    " "
   ]
  },
  {
   "cell_type": "code",
   "execution_count": 16,
   "metadata": {},
   "outputs": [],
   "source": [
    "# Categories\n",
    "for index, row in category.iterrows():\n",
    "\n",
    "    CategoryID = int(row['CategoryID'])\n",
    "    CategoryName= row['CategoryName']\n",
    "    Description = row['Description']\n",
    "   \n",
    "    Category_node = Node('Category', id = CategoryID)   \n",
    "    \n",
    "    Category_node['categoryID'] = CategoryID\n",
    "    Category_node['CategoryName'] = CategoryName\n",
    "    Category_node['Description'] = Description\n",
    "\n",
    "    #create node on graphDB\n",
    "    \n",
    "    graph.merge(Category_node, 'Category', 'id')\n",
    " "
   ]
  },
  {
   "cell_type": "markdown",
   "metadata": {},
   "source": [
    "#### Create relationships between different nodes"
   ]
  },
  {
   "cell_type": "code",
   "execution_count": 17,
   "metadata": {},
   "outputs": [
    {
     "data": {
      "text/plain": [
       "<py2neo.database.Cursor at 0x11dbbb690>"
      ]
     },
     "execution_count": 17,
     "metadata": {},
     "output_type": "execute_result"
    }
   ],
   "source": [
    "\n",
    "#  Orders and  Products\n",
    "\n",
    "graph.run('''\n",
    "MATCH (o:o_temp), (p:p_temp)\n",
    "where o.productID = p.productID\n",
    "MERGE (o)-[op:CONTAINSTEMP]->(p)\n",
    "  ON CREATE SET op.unitPrice = toFloat(o.UnitPrice), op.quantity = toFloat(o.Quantity);\n",
    "''')\n",
    "\n",
    "graph.run(''' MATCH  path = (o:Order)-[*]->(p:Product)\n",
    "merge (o)-[:CONTAINS]-(p) \n",
    "''')\n",
    "\n",
    "\n",
    "\n"
   ]
  },
  {
   "cell_type": "code",
   "execution_count": 18,
   "metadata": {},
   "outputs": [
    {
     "data": {
      "text/plain": [
       "<py2neo.database.Cursor at 0x11dac30d0>"
      ]
     },
     "execution_count": 18,
     "metadata": {},
     "output_type": "execute_result"
    }
   ],
   "source": [
    "\n",
    "#  Orders and Employees\n",
    "graph.run(''' \n",
    "MATCH (o:o_temp), (e: Employee)\n",
    "where o.employeeID = e.employeeID\n",
    "MERGE (o)-[:SOLDTEMP]->(e);\n",
    "''')\n",
    "\n",
    "\n",
    "graph.run(''' MATCH  path = (o:Order)-[*]->(e:Employee)\n",
    "MERGE (e)-[:SOLD]->(o)\n",
    "''')\n",
    "\n"
   ]
  },
  {
   "cell_type": "code",
   "execution_count": 19,
   "metadata": {
    "scrolled": true
   },
   "outputs": [
    {
     "data": {
      "text/plain": [
       "<py2neo.database.Cursor at 0x11db96950>"
      ]
     },
     "execution_count": 19,
     "metadata": {},
     "output_type": "execute_result"
    }
   ],
   "source": [
    "# Products and Suppliers\n",
    "\n",
    "\n",
    "graph.run('''\n",
    "MATCH (p:p_temp),(s:Supplier)\n",
    "where p.supplierID = s.supplierID\n",
    "MERGE (p)-[:SUPPLIESTEMP]->(s);\n",
    "''')\n",
    "\n",
    "graph.run('''\n",
    "MATCH path = (p:Product)-[*]->(s:Supplier) \n",
    "where p.productID in range(1,77)\n",
    "MERGE (s)-[:SUPPLIES]->(p);\n",
    "# ''')\n",
    "\n"
   ]
  },
  {
   "cell_type": "code",
   "execution_count": 20,
   "metadata": {},
   "outputs": [
    {
     "data": {
      "text/plain": [
       "<py2neo.database.Cursor at 0x11db96810>"
      ]
     },
     "execution_count": 20,
     "metadata": {},
     "output_type": "execute_result"
    }
   ],
   "source": [
    "\n",
    "\n",
    "# Products and Categories\n",
    "\n",
    "graph.run('''\n",
    "MATCH (p:p_temp),(c:Category)\n",
    "where p.categoryID = c.categoryID\n",
    "MERGE (p)-[:PART_OFTEMP]->(c);\n",
    "''')\n",
    "\n",
    "graph.run('''\n",
    "MATCH path = (p:Product)-[*]->(c:Category)\n",
    "where p.productID in range(1,77)\n",
    "MERGE (p)-[:PART_OF]->(c);\n",
    "''')\n",
    "\n"
   ]
  },
  {
   "cell_type": "code",
   "execution_count": 21,
   "metadata": {},
   "outputs": [
    {
     "data": {
      "text/plain": [
       "<py2neo.database.Cursor at 0x11dabd750>"
      ]
     },
     "execution_count": 21,
     "metadata": {},
     "output_type": "execute_result"
    }
   ],
   "source": [
    "# Employees Hierarchy\n",
    "\n",
    "graph.run('''\n",
    "MATCH (e:Employee), (m:Employee)\n",
    "where e.ReportsTo = m.employeeID\n",
    "MERGE (e)-[:REPORTS_TO]->(m);\n",
    "''')"
   ]
  },
  {
   "cell_type": "code",
   "execution_count": 22,
   "metadata": {},
   "outputs": [
    {
     "data": {
      "text/plain": [
       "<py2neo.database.Cursor at 0x11db7e050>"
      ]
     },
     "execution_count": 22,
     "metadata": {},
     "output_type": "execute_result"
    }
   ],
   "source": [
    "# Delete order temp nodes\n",
    "\n",
    "graph.run('''MATCH (o:Order)-[rel:ConnectedTo]->(p:o_temp)\n",
    "DELETE rel\n",
    "RETURN o,p\n",
    "''')\n",
    "\n",
    "\n",
    "graph.run('''MATCH (p1:o_temp)-[rel:CONTAINSTEMP]->(p2:p_temp)\n",
    "DELETE rel\n",
    "RETURN p1,p2\n",
    "''')\n",
    "\n",
    "graph.run('''MATCH (p1:o_temp)-[rel:SOLDTEMP]->(p2:Employee)\n",
    "DELETE rel\n",
    "RETURN p1,p2\n",
    "''')\n",
    "\n",
    "graph.run('''MATCH (p1:o_temp)\n",
    "DELETE p1\n",
    "\n",
    "''')"
   ]
  },
  {
   "cell_type": "code",
   "execution_count": 23,
   "metadata": {},
   "outputs": [
    {
     "data": {
      "text/plain": [
       "<py2neo.database.Cursor at 0x11f03ec90>"
      ]
     },
     "execution_count": 23,
     "metadata": {},
     "output_type": "execute_result"
    }
   ],
   "source": [
    "# Delete product temp nodes\n",
    "\n",
    "graph.run('''MATCH (p1:Product)-[rel:ConnectedTo]->(p2:p_temp)\n",
    "DELETE rel\n",
    "RETURN p1,p2\n",
    "''')\n",
    "\n",
    "\n",
    "graph.run('''MATCH (p1:p_temp)-[rel:PART_OFTEMP]->(p2:Category)\n",
    "DELETE rel\n",
    "RETURN p1,p2\n",
    "''')\n",
    "\n",
    "graph.run('''MATCH (p1:p_temp)-[rel:SUPPLIESTEMP]->(p2:Supplier)\n",
    "DELETE rel\n",
    "RETURN p1,p2\n",
    "''')\n",
    "\n",
    "graph.run('''MATCH (p1:Product)<-[rel:Connection_2]-(p2:p_temp)\n",
    "DELETE rel\n",
    "RETURN p1,p2\n",
    "''')\n",
    "\n",
    "\n",
    "graph.run('''MATCH (p1:p_temp)\n",
    "DELETE p1\n",
    "''')"
   ]
  },
  {
   "cell_type": "markdown",
   "metadata": {},
   "source": [
    "### Querying the graph"
   ]
  },
  {
   "cell_type": "markdown",
   "metadata": {},
   "source": [
    "#### 1) Check Employees Heirarchy"
   ]
  },
  {
   "cell_type": "code",
   "execution_count": 24,
   "metadata": {},
   "outputs": [
    {
     "data": {
      "text/plain": [
       "<py2neo.database.Cursor at 0x11dc12110>"
      ]
     },
     "execution_count": 24,
     "metadata": {},
     "output_type": "execute_result"
    }
   ],
   "source": [
    "graph.run('''MATCH (n:Employee) RETURN n LIMIT 25\n",
    "''')"
   ]
  },
  {
   "cell_type": "code",
   "execution_count": 25,
   "metadata": {
    "scrolled": true
   },
   "outputs": [
    {
     "data": {
      "image/png": "[encoded data removed]",
      "text/plain": [
       "<IPython.core.display.Image object>"
      ]
     },
     "execution_count": 25,
     "metadata": {},
     "output_type": "execute_result"
    }
   ],
   "source": [
    "\n",
    "Image(filename = \"EmployeesHeirarchy.png\")"
   ]
  },
  {
   "cell_type": "code",
   "execution_count": 26,
   "metadata": {},
   "outputs": [
    {
     "data": {
      "text/html": [
       "<table><tr><th>managerID</th><th>Manager_Name</th><th>EmployeeID</th><th>Employee_Name</th></tr><tr><td style=\"text-align:right\">2</td><td style=\"text-align:left\">Andrew</td><td style=\"text-align:right\">8</td><td style=\"text-align:left\">Laura</td></tr><tr><td style=\"text-align:right\">2</td><td style=\"text-align:left\">Andrew</td><td style=\"text-align:right\">4</td><td style=\"text-align:left\">Margaret</td></tr><tr><td style=\"text-align:right\">2</td><td style=\"text-align:left\">Andrew</td><td style=\"text-align:right\">1</td><td style=\"text-align:left\">Nancy</td></tr><tr><td style=\"text-align:right\">2</td><td style=\"text-align:left\">Andrew</td><td style=\"text-align:right\">5</td><td style=\"text-align:left\">Steven</td></tr><tr><td style=\"text-align:right\">2</td><td style=\"text-align:left\">Andrew</td><td style=\"text-align:right\">3</td><td style=\"text-align:left\">Janet</td></tr><tr><td style=\"text-align:right\">5</td><td style=\"text-align:left\">Steven</td><td style=\"text-align:right\">9</td><td style=\"text-align:left\">Anne</td></tr><tr><td style=\"text-align:right\">5</td><td style=\"text-align:left\">Steven</td><td style=\"text-align:right\">7</td><td style=\"text-align:left\">Robert</td></tr><tr><td style=\"text-align:right\">5</td><td style=\"text-align:left\">Steven</td><td style=\"text-align:right\">6</td><td style=\"text-align:left\">Michael</td></tr></table>"
      ],
      "text/plain": [
       " managerID | Manager_Name | EmployeeID | Employee_Name \n",
       "-----------|--------------|------------|---------------\n",
       "         2 | Andrew       |          8 | Laura         \n",
       "         2 | Andrew       |          4 | Margaret      \n",
       "         2 | Andrew       |          1 | Nancy         \n",
       "         2 | Andrew       |          5 | Steven        \n",
       "         2 | Andrew       |          3 | Janet         \n",
       "         5 | Steven       |          9 | Anne          \n",
       "         5 | Steven       |          7 | Robert        \n",
       "         5 | Steven       |          6 | Michael       "
      ]
     },
     "execution_count": 26,
     "metadata": {},
     "output_type": "execute_result"
    }
   ],
   "source": [
    "graph.run('''MATCH (e:Employee)<-[:REPORTS_TO]-(sub)\n",
    "RETURN e.id AS managerID, e.FirstName AS Manager_Name, sub.id AS EmployeeID, sub.FirstName AS Employee_Name;\n",
    "''').to_table()"
   ]
  },
  {
   "cell_type": "markdown",
   "metadata": {},
   "source": [
    "#### 2) Find a sample of employees who sold orders and their products"
   ]
  },
  {
   "cell_type": "code",
   "execution_count": 27,
   "metadata": {},
   "outputs": [
    {
     "data": {
      "text/plain": [
       "<py2neo.database.Cursor at 0x11ea1cd50>"
      ]
     },
     "execution_count": 27,
     "metadata": {},
     "output_type": "execute_result"
    }
   ],
   "source": [
    "\n",
    "graph.run('''MATCH (e:Employee)-[rel:SOLD]->(o:Order)-[rel2:CONTAINS]->(p:Product)\n",
    "RETURN e, rel, o, rel2, p LIMIT 25;\n",
    "''')"
   ]
  },
  {
   "cell_type": "code",
   "execution_count": 28,
   "metadata": {},
   "outputs": [
    {
     "data": {
      "image/png": "[encoded data removed]",
      "text/plain": [
       "<IPython.core.display.Image object>"
      ]
     },
     "execution_count": 28,
     "metadata": {},
     "output_type": "execute_result"
    }
   ],
   "source": [
    "Image(filename = \"EmployeeToProduct2.png\")"
   ]
  },
  {
   "cell_type": "markdown",
   "metadata": {},
   "source": [
    "#### 3) Which Employee had the Highest Cross-Selling Count of 'Chocolade' and Another Product?"
   ]
  },
  {
   "cell_type": "code",
   "execution_count": 29,
   "metadata": {},
   "outputs": [
    {
     "data": {
      "text/html": [
       "<table><tr><th>employee</th><th>Employee_Name</th><th>otherProduct</th><th>count</th></tr><tr><td style=\"text-align:right\">4</td><td style=\"text-align:left\">Margaret</td><td style=\"text-align:left\">Gnocchi di nonna Alice</td><td style=\"text-align:right\">14</td></tr><tr><td style=\"text-align:right\">4</td><td style=\"text-align:left\">Margaret</td><td style=\"text-align:left\">Pâté chinois</td><td style=\"text-align:right\">12</td></tr><tr><td style=\"text-align:right\">3</td><td style=\"text-align:left\">Janet</td><td style=\"text-align:left\">Gumbär Gummibärchen</td><td style=\"text-align:right\">12</td></tr><tr><td style=\"text-align:right\">1</td><td style=\"text-align:left\">Nancy</td><td style=\"text-align:left\">Flotemysost</td><td style=\"text-align:right\">12</td></tr><tr><td style=\"text-align:right\">4</td><td style=\"text-align:left\">Margaret</td><td style=\"text-align:left\">Sir Rodney&#039;s Scones</td><td style=\"text-align:right\">11</td></tr><tr><td style=\"text-align:right\">4</td><td style=\"text-align:left\">Margaret</td><td style=\"text-align:left\">Camembert Pierrot</td><td style=\"text-align:right\">11</td></tr><tr><td style=\"text-align:right\">1</td><td style=\"text-align:left\">Nancy</td><td style=\"text-align:left\">Pavlova</td><td style=\"text-align:right\">11</td></tr><tr><td style=\"text-align:right\">1</td><td style=\"text-align:left\">Nancy</td><td style=\"text-align:left\">Camembert Pierrot</td><td style=\"text-align:right\">11</td></tr><tr><td style=\"text-align:right\">4</td><td style=\"text-align:left\">Margaret</td><td style=\"text-align:left\">Boston Crab Meat</td><td style=\"text-align:right\">11</td></tr><tr><td style=\"text-align:right\">4</td><td style=\"text-align:left\">Margaret</td><td style=\"text-align:left\">Teatime Chocolate Biscuits</td><td style=\"text-align:right\">11</td></tr></table>"
      ],
      "text/plain": [
       " employee | Employee_Name | otherProduct               | count \n",
       "----------|---------------|----------------------------|-------\n",
       "        4 | Margaret      | Gnocchi di nonna Alice     |    14 \n",
       "        4 | Margaret      | Pâté chinois               |    12 \n",
       "        3 | Janet         | Gumbär Gummibärchen        |    12 \n",
       "        1 | Nancy         | Flotemysost                |    12 \n",
       "        4 | Margaret      | Sir Rodney's Scones        |    11 \n",
       "        4 | Margaret      | Camembert Pierrot          |    11 \n",
       "        1 | Nancy         | Pavlova                    |    11 \n",
       "        1 | Nancy         | Camembert Pierrot          |    11 \n",
       "        4 | Margaret      | Boston Crab Meat           |    11 \n",
       "        4 | Margaret      | Teatime Chocolate Biscuits |    11 "
      ]
     },
     "execution_count": 29,
     "metadata": {},
     "output_type": "execute_result"
    }
   ],
   "source": [
    "graph.run('''MATCH (choc:Product {productName:'Chocolade'})<-[:CONTAINS]-(:Order)<-[:SOLD]-(employee),\n",
    "      (employee)-[:SOLD]->(o2)-[:CONTAINS]->(other:Product)\n",
    "RETURN employee.employeeID as employee,employee.FirstName as Employee_Name, other.productName as otherProduct, count(distinct o2) as count\n",
    "ORDER BY count DESC\n",
    "LIMIT 10;\n",
    "''').to_table()"
   ]
  },
  {
   "cell_type": "markdown",
   "metadata": {},
   "source": [
    "#### 4) How Many Orders were Made by Each Part of the Hierarchy?"
   ]
  },
  {
   "cell_type": "code",
   "execution_count": 30,
   "metadata": {},
   "outputs": [
    {
     "data": {
      "text/html": [
       "<table><tr><th>ManagerID</th><th>ManagerName</th><th>ReportingEmployees</th><th>totalOrders</th></tr><tr><td style=\"text-align:right\">2</td><td style=\"text-align:left\">Andrew</td><td style=\"text-align:left\">[&#039;Janet&#039;, &#039;Steven&#039;, &#039;Michael&#039;, &#039;Robert&#039;, &#039;Anne&#039;, &#039;Nancy&#039;, &#039;Margaret&#039;, &#039;Laura&#039;]</td><td style=\"text-align:right\">830</td></tr><tr><td style=\"text-align:right\">5</td><td style=\"text-align:left\">Steven</td><td style=\"text-align:left\">[&#039;Michael&#039;, &#039;Robert&#039;, &#039;Anne&#039;]</td><td style=\"text-align:right\">224</td></tr><tr><td style=\"text-align:right\">4</td><td style=\"text-align:left\">Margaret</td><td style=\"text-align:left\">[]</td><td style=\"text-align:right\">156</td></tr><tr><td style=\"text-align:right\">3</td><td style=\"text-align:left\">Janet</td><td style=\"text-align:left\">[]</td><td style=\"text-align:right\">127</td></tr><tr><td style=\"text-align:right\">1</td><td style=\"text-align:left\">Nancy</td><td style=\"text-align:left\">[]</td><td style=\"text-align:right\">123</td></tr><tr><td style=\"text-align:right\">8</td><td style=\"text-align:left\">Laura</td><td style=\"text-align:left\">[]</td><td style=\"text-align:right\">104</td></tr><tr><td style=\"text-align:right\">7</td><td style=\"text-align:left\">Robert</td><td style=\"text-align:left\">[]</td><td style=\"text-align:right\">72</td></tr><tr><td style=\"text-align:right\">6</td><td style=\"text-align:left\">Michael</td><td style=\"text-align:left\">[]</td><td style=\"text-align:right\">67</td></tr><tr><td style=\"text-align:right\">9</td><td style=\"text-align:left\">Anne</td><td style=\"text-align:left\">[]</td><td style=\"text-align:right\">43</td></tr></table>"
      ],
      "text/plain": [
       " ManagerID | ManagerName | ReportingEmployees                                                             | totalOrders \n",
       "-----------|-------------|--------------------------------------------------------------------------------|-------------\n",
       "         2 | Andrew      | ['Janet', 'Steven', 'Michael', 'Robert', 'Anne', 'Nancy', 'Margaret', 'Laura'] |         830 \n",
       "         5 | Steven      | ['Michael', 'Robert', 'Anne']                                                  |         224 \n",
       "         4 | Margaret    | []                                                                             |         156 \n",
       "         3 | Janet       | []                                                                             |         127 \n",
       "         1 | Nancy       | []                                                                             |         123 \n",
       "         8 | Laura       | []                                                                             |         104 \n",
       "         7 | Robert      | []                                                                             |          72 \n",
       "         6 | Michael     | []                                                                             |          67 \n",
       "         9 | Anne        | []                                                                             |          43 "
      ]
     },
     "execution_count": 30,
     "metadata": {},
     "output_type": "execute_result"
    }
   ],
   "source": [
    "graph.run('''MATCH (e:Employee)\n",
    "OPTIONAL MATCH (e)<-[:REPORTS_TO*0..]-(sub)-[:SOLD]->(order)\n",
    "RETURN e.employeeID as ManagerID,e.FirstName as ManagerName, \n",
    "[x IN COLLECT(DISTINCT sub.FirstName) WHERE x <> e.FirstName] AS ReportingEmployees,\n",
    "COUNT(distinct order) AS totalOrders\n",
    "ORDER BY totalOrders DESC;\n",
    "''').to_table()"
   ]
  },
  {
   "cell_type": "code",
   "execution_count": null,
   "metadata": {},
   "outputs": [],
   "source": []
  }
 ],
 "metadata": {
  "kernelspec": {
   "display_name": "Python 3",
   "language": "python",
   "name": "python3"
  },
  "language_info": {
   "codemirror_mode": {
    "name": "ipython",
    "version": 3
   },
   "file_extension": ".py",
   "mimetype": "text/x-python",
   "name": "python",
   "nbconvert_exporter": "python",
   "pygments_lexer": "ipython3",
   "version": "3.7.6"
  }
 },
 "nbformat": 4,
 "nbformat_minor": 4
}
